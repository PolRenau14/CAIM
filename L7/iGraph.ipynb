{
 "cells": [
  {
   "cell_type": "markdown",
   "metadata": {},
   "source": [
    "# Session 7 - iGraph"
   ]
  },
  {
   "cell_type": "markdown",
   "metadata": {},
   "source": [
    "This notebook is for using the python bindings for iGraph, if you prefer R (ugh!) or even C/C++ (OMG!) refer to the corresponding documentation.\n",
    "\n",
    "If you want to install python-igraph on windows or mac you should follow the documentation instructions http://igraph.org/python/#startpy\n",
    "\n",
    "To generate scalable vector graphs (SVG) with the plot methods you need *pycairo* (it is not instalable using pip, you have to download it from http://cairographics.org/pycairo/) and the library *cairo* has to be installed in your linux). We will avoid using pycairo generating png files instead.\n",
    "\n",
    "In this notebook it is also used numpy and matplotlib, they also can be installed using pip\n",
    "\n",
    "Apart from this notebook, the tutorial for iGraph is a good starting point http://igraph.org/python/doc/tutorial/tutorial.html"
   ]
  },
  {
   "cell_type": "code",
   "execution_count": null,
   "metadata": {
    "ExecuteTime": {
     "end_time": "2019-11-22T07:24:09.615877Z",
     "start_time": "2019-11-22T07:24:09.585084Z"
    }
   },
   "outputs": [],
   "source": [
    "from igraph import Graph"
   ]
  },
  {
   "cell_type": "markdown",
   "metadata": {},
   "source": [
    "Creating a graph is simple, this is an **empty** graph (print returns a representation of the graph)"
   ]
  },
  {
   "cell_type": "code",
   "execution_count": null,
   "metadata": {
    "ExecuteTime": {
     "end_time": "2019-11-22T07:24:09.693895Z",
     "start_time": "2019-11-22T07:24:09.661812Z"
    }
   },
   "outputs": [],
   "source": [
    "g = Graph()\n",
    "print(g)"
   ]
  },
  {
   "cell_type": "markdown",
   "metadata": {},
   "source": [
    "We can add vertices like for example, vertices from [0..3]"
   ]
  },
  {
   "cell_type": "code",
   "execution_count": null,
   "metadata": {
    "ExecuteTime": {
     "end_time": "2019-11-22T07:24:09.758726Z",
     "start_time": "2019-11-22T07:24:09.728402Z"
    }
   },
   "outputs": [],
   "source": [
    "g.add_vertices(4)\n",
    "print(g)"
   ]
  },
  {
   "cell_type": "markdown",
   "metadata": {},
   "source": [
    "and some edges among them (as a list of pairs)"
   ]
  },
  {
   "cell_type": "code",
   "execution_count": null,
   "metadata": {
    "ExecuteTime": {
     "end_time": "2019-11-22T07:24:09.825611Z",
     "start_time": "2019-11-22T07:24:09.792589Z"
    }
   },
   "outputs": [],
   "source": [
    "g.add_edges([(1,2), (1,3), (2,3), (3, 0)])\n",
    "print(g)"
   ]
  },
  {
   "cell_type": "markdown",
   "metadata": {},
   "source": [
    "Class Graph provides a couple of iterators to traverse the vertices (**vs**) and the edges (**es**)"
   ]
  },
  {
   "cell_type": "code",
   "execution_count": null,
   "metadata": {
    "ExecuteTime": {
     "end_time": "2019-11-22T07:24:09.961525Z",
     "start_time": "2019-11-22T07:24:09.856601Z"
    }
   },
   "outputs": [],
   "source": [
    "for v in g.vs:\n",
    "    print(v)"
   ]
  },
  {
   "cell_type": "code",
   "execution_count": null,
   "metadata": {
    "ExecuteTime": {
     "end_time": "2019-11-22T07:24:10.025587Z",
     "start_time": "2019-11-22T07:24:09.964103Z"
    }
   },
   "outputs": [],
   "source": [
    "for e in g.es:\n",
    "    print(e)"
   ]
  },
  {
   "cell_type": "markdown",
   "metadata": {},
   "source": [
    "Properties can be attached to the vertices (and the edges)"
   ]
  },
  {
   "cell_type": "code",
   "execution_count": null,
   "metadata": {
    "ExecuteTime": {
     "end_time": "2019-11-22T07:24:10.092459Z",
     "start_time": "2019-11-22T07:24:10.029780Z"
    }
   },
   "outputs": [],
   "source": [
    "for i, v in enumerate(g.vs):\n",
    "    v['name'] = str(i)\n",
    "for v in g.vs:\n",
    "    print(v.attributes())"
   ]
  },
  {
   "cell_type": "code",
   "execution_count": null,
   "metadata": {
    "ExecuteTime": {
     "end_time": "2019-11-22T07:24:10.160785Z",
     "start_time": "2019-11-22T07:24:10.094636Z"
    }
   },
   "outputs": [],
   "source": [
    "import random\n",
    "for edge in g.es:\n",
    "    edge['weight'] = random.randint(1,10)\n",
    "for edge in g.es:\n",
    "    print(edge['weight'])"
   ]
  },
  {
   "cell_type": "markdown",
   "metadata": {},
   "source": [
    "Class Graph has methods to compute properties of a graph and many useful algorithms (http://igraph.org/python/doc/igraph.Graph-class.html)"
   ]
  },
  {
   "cell_type": "code",
   "execution_count": null,
   "metadata": {
    "ExecuteTime": {
     "end_time": "2019-11-22T07:24:10.234304Z",
     "start_time": "2019-11-22T07:24:10.163075Z"
    }
   },
   "outputs": [],
   "source": [
    "g.degree()"
   ]
  },
  {
   "cell_type": "code",
   "execution_count": null,
   "metadata": {
    "ExecuteTime": {
     "end_time": "2019-11-22T07:24:10.301275Z",
     "start_time": "2019-11-22T07:24:10.237241Z"
    }
   },
   "outputs": [],
   "source": [
    "g.edge_betweenness()"
   ]
  },
  {
   "cell_type": "markdown",
   "metadata": {},
   "source": [
    "Plotting the graph is a little bit more complicated because by default it uses the Cairo library (that it is not installed in the lab PCs), we can circunvent this problem by generatin a png file and loading it in the notebook. There are different styles and layouts for plotting a graph, you can look for the parameters in the documentation of the plot function in the Graph class."
   ]
  },
  {
   "cell_type": "code",
   "execution_count": null,
   "metadata": {
    "ExecuteTime": {
     "end_time": "2019-11-22T07:24:10.466857Z",
     "start_time": "2019-11-22T07:24:10.303619Z"
    }
   },
   "outputs": [],
   "source": [
    "from IPython import display\n",
    "from igraph import plot\n",
    "\n",
    "g.vs['label'] = g.vs['name']\n",
    "g.es['width'] = g.es['weight']\n",
    "plot(g, layout = g.layout_circle(),target=\"./igraph_demo.png\")\n",
    "display.Image(filename=\"./igraph_demo.png\")"
   ]
  },
  {
   "cell_type": "markdown",
   "metadata": {},
   "source": [
    "## Graph Generators\n",
    "\n",
    "iGraph implements several graph generators (Erdos-Renyi, Barabasi, Watts-Strogratz, ...), different layouts have been used for plotting the graphs (you can look up in the documentation the different alternatives and parameters)"
   ]
  },
  {
   "cell_type": "code",
   "execution_count": null,
   "metadata": {
    "ExecuteTime": {
     "end_time": "2019-11-22T07:24:11.055309Z",
     "start_time": "2019-11-22T07:24:10.470800Z"
    }
   },
   "outputs": [],
   "source": [
    "erdos = Graph.Erdos_Renyi(100,0.05)\n",
    "r = plot(erdos, layout = erdos.layout_kamada_kawai(),target=\"./erdos.png\")\n",
    "display.Image(filename=\"./erdos.png\")"
   ]
  },
  {
   "cell_type": "code",
   "execution_count": null,
   "metadata": {
    "ExecuteTime": {
     "end_time": "2019-11-22T07:24:11.212074Z",
     "start_time": "2019-11-22T07:24:11.058266Z"
    }
   },
   "outputs": [],
   "source": [
    "barabasi = Graph.Barabasi(100,1)\n",
    "r = plot(barabasi, layout = barabasi.layout_fruchterman_reingold(),target=\"./barabasi.png\")\n",
    "display.Image(filename=\"./barabasi.png\")"
   ]
  },
  {
   "cell_type": "code",
   "execution_count": null,
   "metadata": {
    "ExecuteTime": {
     "end_time": "2019-11-22T07:24:11.339989Z",
     "start_time": "2019-11-22T07:24:11.214566Z"
    }
   },
   "outputs": [],
   "source": [
    "watts = Graph.Watts_Strogatz(1,100,2,0.05)\n",
    "r = plot(watts, layout = watts.layout_lgl(),target=\"./watts.png\")\n",
    "display.Image(filename=\"./watts.png\")"
   ]
  },
  {
   "cell_type": "markdown",
   "metadata": {},
   "source": [
    "## Measuring graphs\n",
    "\n",
    "The following cells replicates more or less what you have in the session documentation for the lattice graph"
   ]
  },
  {
   "cell_type": "code",
   "execution_count": null,
   "metadata": {
    "ExecuteTime": {
     "end_time": "2019-11-22T07:24:11.922830Z",
     "start_time": "2019-11-22T07:24:11.342367Z"
    }
   },
   "outputs": [],
   "source": [
    "lattice = Graph.Lattice([10,10])\n",
    "r = plot(lattice, layout=lattice.layout_kamada_kawai(),target=\"./lattice.png\")\n",
    "display.Image(filename=\"./lattice.png\")"
   ]
  },
  {
   "cell_type": "code",
   "execution_count": null,
   "metadata": {
    "ExecuteTime": {
     "end_time": "2019-11-22T07:24:11.931368Z",
     "start_time": "2019-11-22T07:24:11.925621Z"
    }
   },
   "outputs": [],
   "source": [
    "lattice.average_path_length()"
   ]
  },
  {
   "cell_type": "code",
   "execution_count": null,
   "metadata": {
    "ExecuteTime": {
     "end_time": "2019-11-22T07:24:11.993399Z",
     "start_time": "2019-11-22T07:24:11.933871Z"
    }
   },
   "outputs": [],
   "source": [
    "lattice.diameter()"
   ]
  },
  {
   "cell_type": "code",
   "execution_count": null,
   "metadata": {
    "ExecuteTime": {
     "end_time": "2019-11-22T07:24:12.049948Z",
     "start_time": "2019-11-22T07:24:11.995641Z"
    }
   },
   "outputs": [],
   "source": [
    "lattice.rewire_edges(0.2)"
   ]
  },
  {
   "cell_type": "code",
   "execution_count": null,
   "metadata": {
    "ExecuteTime": {
     "end_time": "2019-11-22T07:24:12.113541Z",
     "start_time": "2019-11-22T07:24:12.057504Z"
    }
   },
   "outputs": [],
   "source": [
    "lattice.average_path_length()"
   ]
  },
  {
   "cell_type": "code",
   "execution_count": null,
   "metadata": {
    "ExecuteTime": {
     "end_time": "2019-11-22T07:24:12.178781Z",
     "start_time": "2019-11-22T07:24:12.116263Z"
    }
   },
   "outputs": [],
   "source": [
    "lattice.diameter()"
   ]
  },
  {
   "cell_type": "markdown",
   "metadata": {},
   "source": [
    "The following is for the watts, erdos and ring graphs and the different measures over graphs"
   ]
  },
  {
   "cell_type": "code",
   "execution_count": null,
   "metadata": {
    "ExecuteTime": {
     "end_time": "2019-11-22T07:24:12.235808Z",
     "start_time": "2019-11-22T07:24:12.183505Z"
    }
   },
   "outputs": [],
   "source": [
    "watts.transitivity_undirected()"
   ]
  },
  {
   "cell_type": "code",
   "execution_count": null,
   "metadata": {
    "ExecuteTime": {
     "end_time": "2019-11-22T07:24:12.285226Z",
     "start_time": "2019-11-22T07:24:12.240508Z"
    }
   },
   "outputs": [],
   "source": [
    "p_hat = len(watts.es)/(len(watts.vs)*len(watts.vs)/2)\n",
    "p_hat"
   ]
  },
  {
   "cell_type": "code",
   "execution_count": null,
   "metadata": {
    "ExecuteTime": {
     "end_time": "2019-11-22T07:24:12.343799Z",
     "start_time": "2019-11-22T07:24:12.287974Z"
    }
   },
   "outputs": [],
   "source": [
    "erdos.transitivity_undirected()"
   ]
  },
  {
   "cell_type": "code",
   "execution_count": null,
   "metadata": {
    "ExecuteTime": {
     "end_time": "2019-11-22T07:24:12.473506Z",
     "start_time": "2019-11-22T07:24:12.346706Z"
    }
   },
   "outputs": [],
   "source": [
    "ring = Graph.Ring(10)\n",
    "r = plot(ring, layout=ring.layout_kamada_kawai(),target=\"./ring.png\")\n",
    "display.Image(filename=\"./ring.png\")"
   ]
  },
  {
   "cell_type": "code",
   "execution_count": null,
   "metadata": {
    "ExecuteTime": {
     "end_time": "2019-11-22T07:24:12.484504Z",
     "start_time": "2019-11-22T07:24:12.479469Z"
    }
   },
   "outputs": [],
   "source": [
    "ring.degree()"
   ]
  },
  {
   "cell_type": "code",
   "execution_count": null,
   "metadata": {
    "ExecuteTime": {
     "end_time": "2019-11-22T07:24:12.555521Z",
     "start_time": "2019-11-22T07:24:12.487665Z"
    }
   },
   "outputs": [],
   "source": [
    "barabasi = Graph.Barabasi(1000,3)\n",
    "p_hat = len(barabasi.es)/((len(barabasi.vs)-1)*len(barabasi.vs)/2.0)\n",
    "p_hat\n",
    "erdos = Graph.Erdos_Renyi(1000,p_hat)\n",
    "p_hat"
   ]
  },
  {
   "cell_type": "code",
   "execution_count": null,
   "metadata": {
    "ExecuteTime": {
     "end_time": "2019-11-22T07:24:12.754092Z",
     "start_time": "2019-11-22T07:24:12.558208Z"
    }
   },
   "outputs": [],
   "source": [
    "from numpy import histogram, max\n",
    "h, b = histogram(erdos.degree(), bins=max(erdos.degree()), density=True)\n",
    "print(h)\n",
    "print(b)"
   ]
  },
  {
   "cell_type": "code",
   "execution_count": null,
   "metadata": {
    "ExecuteTime": {
     "end_time": "2019-11-22T07:24:13.397212Z",
     "start_time": "2019-11-22T07:24:12.756635Z"
    }
   },
   "outputs": [],
   "source": [
    "import matplotlib.pyplot as plt\n",
    "%matplotlib inline\n",
    "r = plt.hist(erdos.degree(), bins=max(erdos.degree()))"
   ]
  },
  {
   "cell_type": "code",
   "execution_count": null,
   "metadata": {
    "ExecuteTime": {
     "end_time": "2019-11-22T07:24:13.663362Z",
     "start_time": "2019-11-22T07:24:13.399667Z"
    }
   },
   "outputs": [],
   "source": [
    "r = plt.plot(b[1:], h, 'o' )"
   ]
  },
  {
   "cell_type": "code",
   "execution_count": null,
   "metadata": {
    "ExecuteTime": {
     "end_time": "2019-11-22T07:24:14.461377Z",
     "start_time": "2019-11-22T07:24:13.666326Z"
    }
   },
   "outputs": [],
   "source": [
    "r = plt.hist(barabasi.degree(), bins=max(barabasi.degree()))"
   ]
  },
  {
   "cell_type": "code",
   "execution_count": null,
   "metadata": {
    "ExecuteTime": {
     "end_time": "2019-11-22T07:24:14.722256Z",
     "start_time": "2019-11-22T07:24:14.464232Z"
    }
   },
   "outputs": [],
   "source": [
    "h, b = histogram(barabasi.degree(), bins=max(barabasi.degree()), density=True)\n",
    "r = plt.plot(b[1:], h, 'o' )"
   ]
  },
  {
   "cell_type": "markdown",
   "metadata": {},
   "source": [
    "## Communities\n",
    "\n",
    "This follows the part about social graphs measures and comunity detection.\n",
    "\n",
    "First we creeate a graph following the Erdos-Reny model"
   ]
  },
  {
   "cell_type": "code",
   "execution_count": null,
   "metadata": {
    "ExecuteTime": {
     "end_time": "2019-11-22T07:24:14.837928Z",
     "start_time": "2019-11-22T07:24:14.724705Z"
    }
   },
   "outputs": [],
   "source": [
    "from igraph import plot\n",
    "erdos = Graph.Erdos_Renyi(20,0.2)\n",
    "\n",
    "r = plot(erdos, layout = erdos.layout_kamada_kawai(),target=\"./erdos.png\")\n",
    "display.Image(filename=\"./erdos.png\")"
   ]
  },
  {
   "cell_type": "markdown",
   "metadata": {},
   "source": [
    "We can measure vertices **betweenness**"
   ]
  },
  {
   "cell_type": "code",
   "execution_count": null,
   "metadata": {
    "ExecuteTime": {
     "end_time": "2019-11-22T07:24:14.852327Z",
     "start_time": "2019-11-22T07:24:14.840461Z"
    }
   },
   "outputs": [],
   "source": [
    "erdos.betweenness()"
   ]
  },
  {
   "cell_type": "markdown",
   "metadata": {},
   "source": [
    "Vertices **degree**"
   ]
  },
  {
   "cell_type": "code",
   "execution_count": null,
   "metadata": {
    "ExecuteTime": {
     "end_time": "2019-11-22T07:24:14.950688Z",
     "start_time": "2019-11-22T07:24:14.854699Z"
    }
   },
   "outputs": [],
   "source": [
    "erdos.degree()"
   ]
  },
  {
   "cell_type": "markdown",
   "metadata": {},
   "source": [
    "Vertices **closeness**"
   ]
  },
  {
   "cell_type": "code",
   "execution_count": null,
   "metadata": {
    "ExecuteTime": {
     "end_time": "2019-11-22T07:24:15.004216Z",
     "start_time": "2019-11-22T07:24:14.955104Z"
    }
   },
   "outputs": [],
   "source": [
    "erdos.closeness()"
   ]
  },
  {
   "cell_type": "markdown",
   "metadata": {},
   "source": [
    "nodes **pagerank**"
   ]
  },
  {
   "cell_type": "code",
   "execution_count": null,
   "metadata": {
    "ExecuteTime": {
     "end_time": "2019-11-22T07:24:15.069376Z",
     "start_time": "2019-11-22T07:24:15.006734Z"
    }
   },
   "outputs": [],
   "source": [
    "erdos.pagerank()"
   ]
  },
  {
   "cell_type": "markdown",
   "metadata": {},
   "source": [
    "iGraph also has several community detection algorithms, you can look them up in the Graph class documentation to see how they work and how to use them.\n",
    "\n",
    "The algorithm return different objects (clusters or dendrograms) that have different methods for obtaining what you need.\n",
    "\n",
    "The method **community_edge_betweenness()** returns a dendrogram object that allows to extract the clusters. You can also plot dendrograms and clusters."
   ]
  },
  {
   "cell_type": "code",
   "execution_count": null,
   "metadata": {
    "ExecuteTime": {
     "end_time": "2019-11-22T07:24:15.152520Z",
     "start_time": "2019-11-22T07:24:15.073029Z"
    }
   },
   "outputs": [],
   "source": [
    "com = erdos.community_edge_betweenness()\n",
    "r = plot(com,target=\"./erdos-dendro.png\", orientation='bottom-top')\n",
    "print ('Clusters:', com.optimal_count) # Optimal number of clusters from the dendrogram\n",
    "display.Image(filename=\"./erdos-dendro.png\")"
   ]
  },
  {
   "cell_type": "markdown",
   "metadata": {},
   "source": [
    "the *as_clustering* method of the dendrogram object returns a graph with the clusters"
   ]
  },
  {
   "cell_type": "code",
   "execution_count": null,
   "metadata": {
    "ExecuteTime": {
     "end_time": "2019-11-22T07:24:15.297384Z",
     "start_time": "2019-11-22T07:24:15.154846Z"
    },
    "scrolled": false
   },
   "outputs": [],
   "source": [
    "r = plot(com.as_clustering(), layout = erdos.layout_kamada_kawai(),target=\"./com-erdos.png\",mark_groups=True)\n",
    "display.Image(filename=\"./com-erdos.png\")"
   ]
  },
  {
   "cell_type": "markdown",
   "metadata": {
    "collapsed": true
   },
   "source": [
    "You can also obtain the clusters and the vertices in the clusters"
   ]
  },
  {
   "cell_type": "code",
   "execution_count": null,
   "metadata": {
    "ExecuteTime": {
     "end_time": "2019-11-22T07:24:15.305497Z",
     "start_time": "2019-11-22T07:24:15.300835Z"
    }
   },
   "outputs": [],
   "source": [
    "for d in com.as_clustering():\n",
    "    print(d)"
   ]
  },
  {
   "cell_type": "markdown",
   "metadata": {},
   "source": [
    "## Social experiment\n",
    "\n",
    "You have with the session documentation the file 'caimlab.txt'. This is the graph of the laboratory 'partnerships' of the previous lab sessions.\n",
    "\n",
    "The graph has been anonymized."
   ]
  },
  {
   "cell_type": "code",
   "execution_count": null,
   "metadata": {
    "ExecuteTime": {
     "end_time": "2019-11-22T07:24:15.774669Z",
     "start_time": "2019-11-22T07:24:15.308067Z"
    }
   },
   "outputs": [],
   "source": [
    "g = Graph(directed=False)\n",
    "g = g.Load('./caimlab.txt', format='edgelist', directed=False)\n",
    "r = plot(g, layout = g.layout_kamada_kawai(),target=\"./caimlab-graph.png\")\n",
    "display.Image(filename=\"./caimlab-graph.png\")"
   ]
  },
  {
   "cell_type": "markdown",
   "metadata": {},
   "source": [
    "We can compute the communities in this social graph using the edge betweenness"
   ]
  },
  {
   "cell_type": "code",
   "execution_count": null,
   "metadata": {
    "ExecuteTime": {
     "end_time": "2019-11-22T07:24:15.781828Z",
     "start_time": "2019-11-22T07:24:15.778107Z"
    },
    "code_folding": []
   },
   "outputs": [],
   "source": [
    "#clust = g.community_optimal_modularity()\n",
    "#clust = g.community_label_propagation()\n",
    "#clust = g.community_leading_eigenvector()\n",
    "#clust = g.community_infomap()\n",
    "clust = g.community_multilevel()"
   ]
  },
  {
   "cell_type": "code",
   "execution_count": null,
   "metadata": {
    "ExecuteTime": {
     "end_time": "2019-11-22T07:24:15.850594Z",
     "start_time": "2019-11-22T07:24:15.783968Z"
    }
   },
   "outputs": [],
   "source": [
    "print(clust)"
   ]
  },
  {
   "cell_type": "code",
   "execution_count": null,
   "metadata": {
    "ExecuteTime": {
     "end_time": "2019-11-22T07:24:16.025917Z",
     "start_time": "2019-11-22T07:24:15.853050Z"
    }
   },
   "outputs": [],
   "source": [
    "r = plot(clust,target=\"./caimlab-clust.png\",mark_groups=True)\n",
    "display.Image(filename=\"./caimlab-clust.png\")"
   ]
  },
  {
   "cell_type": "code",
   "execution_count": null,
   "metadata": {
    "ExecuteTime": {
     "end_time": "2019-11-22T07:24:16.057380Z",
     "start_time": "2019-11-22T07:24:16.028287Z"
    }
   },
   "outputs": [],
   "source": [
    "clust = g.community_edge_betweenness()"
   ]
  },
  {
   "cell_type": "code",
   "execution_count": null,
   "metadata": {
    "ExecuteTime": {
     "end_time": "2019-11-22T07:24:16.149531Z",
     "start_time": "2019-11-22T07:24:16.059663Z"
    }
   },
   "outputs": [],
   "source": [
    "print(clust)"
   ]
  },
  {
   "cell_type": "code",
   "execution_count": null,
   "metadata": {
    "ExecuteTime": {
     "end_time": "2019-11-22T07:24:16.297932Z",
     "start_time": "2019-11-22T07:24:16.153269Z"
    }
   },
   "outputs": [],
   "source": [
    "r = plot(clust, layout = g.layout_lgl(),target=\"./caimlab-eb-den.png\")\n",
    "display.Image(filename=\"./caimlab-eb-den.png\")"
   ]
  },
  {
   "cell_type": "code",
   "execution_count": null,
   "metadata": {
    "ExecuteTime": {
     "end_time": "2019-11-22T07:24:16.413638Z",
     "start_time": "2019-11-22T07:24:16.302221Z"
    }
   },
   "outputs": [],
   "source": [
    "clust = clust.as_clustering()\n",
    "\n",
    "r = plot(clust,target=\"./caimlab-clust.png\",mark_groups=True)\n",
    "display.Image(filename=\"./caimlab-clust.png\")"
   ]
  }
 ],
 "metadata": {
  "kernelspec": {
   "display_name": "Python 3",
   "language": "python",
   "name": "python3"
  },
  "language_info": {
   "codemirror_mode": {
    "name": "ipython",
    "version": 3
   },
   "file_extension": ".py",
   "mimetype": "text/x-python",
   "name": "python",
   "nbconvert_exporter": "python",
   "pygments_lexer": "ipython3",
   "version": "3.7.5"
  },
  "latex_envs": {
   "LaTeX_envs_menu_present": true,
   "autoclose": false,
   "autocomplete": true,
   "bibliofile": "biblio.bib",
   "cite_by": "apalike",
   "current_citInitial": 1,
   "eqLabelWithNumbers": true,
   "eqNumInitial": 1,
   "hotkeys": {
    "equation": "Ctrl-E",
    "itemize": "Ctrl-I"
   },
   "labels_anchors": false,
   "latex_user_defs": false,
   "report_style_numbering": false,
   "user_envs_cfg": false
  },
  "toc": {
   "base_numbering": 1,
   "nav_menu": {},
   "number_sections": true,
   "sideBar": true,
   "skip_h1_title": false,
   "title_cell": "Table of Contents",
   "title_sidebar": "Contents",
   "toc_cell": false,
   "toc_position": {},
   "toc_section_display": "block",
   "toc_window_display": false
  }
 },
 "nbformat": 4,
 "nbformat_minor": 1
}
